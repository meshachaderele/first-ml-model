{
  "cells": [
    {
      "cell_type": "code",
      "execution_count": null,
      "metadata": {
        "id": "y3HvK80AkOl7"
      },
      "outputs": [],
      "source": [
        "# !pip install --upgrade scikeras\n",
        "# !pip show numpy"
      ]
    },
    {
      "cell_type": "code",
      "execution_count": null,
      "metadata": {
        "id": "qitxbPRvKDaR"
      },
      "outputs": [],
      "source": [
        "# prompt: import  scikeras, keras and tensorflow, numpy,matplotlib\n",
        "\n",
        "# !pip install scikeras\n",
        "# !pip install pandas\n",
        "# !pip install tensorflow\n",
        "# !pip install keras\n",
        "# !pip install numpy\n",
        "# !pip install matplotlib\n",
        "# !pip install missingno\n",
        "# !pip install seaborn\n"
      ]
    },
    {
      "cell_type": "code",
      "execution_count": null,
      "metadata": {
        "id": "OxYawQl2BLzc"
      },
      "outputs": [],
      "source": [
        "import keras.backend as K\n",
        "import numpy as np\n",
        "import tensorflow as tf\n",
        "import pandas as pd\n",
        "import random\n",
        "import string\n",
        "import matplotlib.pyplot as plt\n",
        "import seaborn as sns\n",
        "import missingno as msno\n",
        "from sklearn.compose import ColumnTransformer\n",
        "from sklearn.preprocessing import StandardScaler, OneHotEncoder, LabelEncoder, RobustScaler, MinMaxScaler\n",
        "from datetime import datetime\n",
        "from keras.models import Sequential\n",
        "from keras.layers import Dense\n",
        "from sklearn.model_selection import train_test_split,GridSearchCV\n",
        "from scikeras.wrappers import KerasRegressor\n",
        "# from sklearn.model_selection import train_test_split\n"
      ]
    },
    {
      "cell_type": "code",
      "source": [
        "# prompt: load  the train.csv and the test.csv files.sample(n=10000,random_state=37)\n",
        "train = pd.read_csv('/content/drive/MyDrive/Colab Notebooks/train.csv')\n",
        "test = pd.read_csv('/content/drive/MyDrive/Colab Notebooks/test.csv')"
      ],
      "metadata": {
        "id": "yrCZEYY_kIBF"
      },
      "execution_count": null,
      "outputs": []
    },
    {
      "cell_type": "code",
      "execution_count": null,
      "metadata": {
        "id": "5gYbTs2UFwuo"
      },
      "outputs": [],
      "source": [
        "# Determine car year\n",
        "# Calculate current year\n",
        "current_year = datetime.now().year\n",
        "\n",
        "# Calculate the age of the car\n",
        "train['car_age'] = current_year - train['year']\n",
        "test['car_age'] = current_year - test['year']\n",
        "# Drop the original 'year' column\n",
        "train.drop(columns=['year'], inplace=True)\n",
        "test.drop(columns=['year'], inplace=True)\n"
      ]
    },
    {
      "cell_type": "code",
      "execution_count": null,
      "metadata": {
        "id": "x0uWR4dJFyGL"
      },
      "outputs": [],
      "source": [
        "# delete all rows with price of 0\n",
        "train = train[train['price'] != 0]"
      ]
    },
    {
      "cell_type": "code",
      "execution_count": null,
      "metadata": {
        "id": "nQ_-hDMTF2lx"
      },
      "outputs": [],
      "source": [
        "# Drop the id column\n",
        "# train.drop(columns=['id'], inplace=True)"
      ]
    },
    {
      "cell_type": "code",
      "execution_count": null,
      "metadata": {
        "id": "DBbdHsl7F5TH"
      },
      "outputs": [],
      "source": [
        "# Convert string values in the 'kilometers' column to numerical values and return the maximum\n",
        "def convert_to_max_kilometer(value):\n",
        "    if isinstance(value, str):\n",
        "        parts = value.split(' to ')\n",
        "        if len(parts) == 1:  # Single value\n",
        "            return int(parts[0])\n",
        "        else:\n",
        "            return int(parts[1])  # Maximum of the range\n",
        "    else:\n",
        "        return value\n",
        "\n",
        "# Apply the function to each value in the 'kilometers' column\n",
        "train['max_kilometer'] = train['kilometers'].apply(convert_to_max_kilometer)\n",
        "test['max_kilometer'] = test['kilometers'].apply(convert_to_max_kilometer)\n",
        "\n",
        "# Drop the original 'kilometers' column\n",
        "train.drop(columns=['kilometers'], inplace=True)\n",
        "test.drop(columns=['kilometers'], inplace=True)"
      ]
    },
    {
      "cell_type": "code",
      "execution_count": null,
      "metadata": {
        "id": "y8UZrPW7F8im"
      },
      "outputs": [],
      "source": [
        "# Impute missing values for categorical features (e.g., body_type) with a new category 'unknown'\n",
        "# Define a function to generate a random string\n",
        "def generate_random_string(length=8):\n",
        "    letters = string.ascii_lowercase\n",
        "    return ''.join(random.choice(letters) for _ in range(length))\n",
        "\n",
        "# train['body_type'].fillna('unknown', inplace=True)\n",
        "# test['body_type'].fillna('unknown', inplace=True)\n",
        "train['body_type'].fillna(generate_random_string(), inplace=True)\n",
        "test['body_type'].fillna(generate_random_string(), inplace=True)\n",
        "\n",
        "# Drop rows with more than three missing data fields\n",
        "train.dropna(thresh=train.shape[1]-3, inplace=True)\n",
        "\n",
        "# Step 2: Encode Categorical Variables\n",
        "# Initialize LabelEncoder\n",
        "label_encoders = {}\n",
        "\n",
        "# Encode categorical variables with LabelEncoder\n",
        "categorical_columns = ['brand', 'city', 'region', 'model', 'transmission_type','body_type' ]\n",
        "for col in categorical_columns:\n",
        "    label_encoders[col] = LabelEncoder()\n",
        "    train[col] = label_encoders[col].fit_transform(train[col])\n",
        "    test[col] = label_encoders[col].transform(test[col])\n",
        "\n",
        "\n",
        "train.drop('created_at_first', axis=1, inplace=True)\n",
        "test.drop('created_at_first', axis=1, inplace=True)"
      ]
    },
    {
      "cell_type": "code",
      "execution_count": null,
      "metadata": {
        "id": "O_uDikT2GC30"
      },
      "outputs": [],
      "source": [
        "# Handle Outliers\n",
        "# Identify and handle outliers in numerical features using winsorization\n",
        "def handle_outliers(df, columns):\n",
        "    for col in columns:\n",
        "        # Calculate the 1st and 99th percentile\n",
        "        p1 = df[col].quantile(0.01)\n",
        "        p99 = df[col].quantile(0.99)\n",
        "\n",
        "        # Winsorization: Replace outliers with the nearest valid value within the percentile thresholds\n",
        "        df[col] = df[col].clip(lower=p1, upper=p99)\n",
        "    return df"
      ]
    },
    {
      "cell_type": "code",
      "execution_count": null,
      "metadata": {
        "id": "4T_2Tx5KGGXn"
      },
      "outputs": [],
      "source": [
        "# Normalize/Scale Numerical Features\n",
        "# Scale numerical features to a similar range using RobustScaler\n",
        "def scale_numerical_features(df, columns):\n",
        "    scaler = MinMaxScaler()  # Initialize RobustScaler RobustScaler()\n",
        "    df[columns] = scaler.fit_transform(df[columns])  # Fit and transform the selected numerical features\n",
        "    return df"
      ]
    },
    {
      "cell_type": "code",
      "source": [
        "print(train)"
      ],
      "metadata": {
        "id": "DmMFFL5kacTo",
        "colab": {
          "base_uri": "https://localhost:8080/"
        },
        "outputId": "89e37f92-14df-4d83-d64a-1905eda5e328"
      },
      "execution_count": null,
      "outputs": [
        {
          "output_type": "stream",
          "name": "stdout",
          "text": [
            "            id  city  region  body_type  transmission_type  brand  model  \\\n",
            "0            1   276      25          0                  1     14     38   \n",
            "1            2   239       3          2                  2     43      7   \n",
            "2            3   222      17          3                  2     28     22   \n",
            "3            4   251      18          6                  0      4     27   \n",
            "4            5    12       6          2                  2     24     35   \n",
            "...        ...   ...     ...        ...                ...    ...    ...   \n",
            "766954  766955   209       6          6                  2     14     40   \n",
            "766955  766956    99       6          6                  0      3      3   \n",
            "766956  766957   117      16          6                  2      4     27   \n",
            "766957  766958   196       1          6                  2     22     45   \n",
            "766958  766959   300      23          1                  1      4     27   \n",
            "\n",
            "         price  car_age  max_kilometer  \n",
            "0       8900.0     23.0         9999.0  \n",
            "1       5400.0     21.0         9999.0  \n",
            "2       9500.0     16.0         9999.0  \n",
            "3       5100.0     22.0         9999.0  \n",
            "4       7000.0     19.0        99999.0  \n",
            "...        ...      ...            ...  \n",
            "766954  9800.0      9.0        69999.0  \n",
            "766955  1500.0     31.0         9999.0  \n",
            "766956  8600.0     21.0         9999.0  \n",
            "766957  6200.0     19.0       139999.0  \n",
            "766958  3000.0     38.0         9999.0  \n",
            "\n",
            "[757691 rows x 10 columns]\n"
          ]
        }
      ]
    },
    {
      "cell_type": "code",
      "source": [
        "# prompt: delete all rows in the car_age column with age that is above the 70percentiles but with a price that is above 50 percentiles\n",
        "\n",
        "\n",
        "train = train.drop(train[(train['car_age'] > train['car_age'].quantile(0.65)) & (train['price'] > train['price'].quantile(0.5))].index)  #rmsle score: 0.35\n",
        "# train = train.drop(train[(train['car_age'] > train['car_age'].quantile(0.55)) & (train['price'] > train['price'].quantile(0.5))].index) #rmsle score: 0.33\n",
        "# train = train.drop(train[(train['car_age'] > train['car_age'].quantile(0.75)) & (train['price'] > train['price'].quantile(0.25))].index)  #rmsle score: 0.3005\n",
        "#train = train.drop(train[(train['car_age'] > train['car_age'].quantile(0.55)) & (train['price'] > train['price'].quantile(0.5))].index)  #rmsle score: 0.263\n",
        "\n",
        "\n"
      ],
      "metadata": {
        "id": "bx7YVymIWXV2"
      },
      "execution_count": null,
      "outputs": []
    },
    {
      "cell_type": "code",
      "source": [
        "\n",
        "\n",
        "train = train.drop(train[(train['car_age'] < train['car_age'].quantile(0.3)) & (train['price'] < train['price'].quantile(0.35))].index)  #rmsle score: 0.35\n",
        "# train = train.drop(train[(train['car_age'] < train['car_age'].quantile(0.55)) & (train['price'] < train['price'].quantile(0.35))].index) #rmsle score: 0.33\n",
        "# train = train.drop(train[(train['car_age'] < train['car_age'].quantile(0.25)) & (train['price'] < train['price'].quantile(0.75))].index)  #rmsle score: 0.3005\n",
        "#train = train.drop(train[(train['car_age'] < train['car_age'].quantile(0.55)) & (train['price'] < train['price'].quantile(0.35))].index) #rmsle score: 0.263\n",
        "\n"
      ],
      "metadata": {
        "id": "_XCUj3iybj2p"
      },
      "execution_count": null,
      "outputs": []
    },
    {
      "cell_type": "code",
      "source": [
        "# prompt: delete every row that has a max-kilometer that is wit delete all rows in the max-kilometers column if its value that is above the 70percentiles but with a price that is above 40 percentiles\n",
        "\n",
        "train = train.drop(train[(train['max_kilometer'] > train['max_kilometer'].quantile(0.6)) & (train['price'] > train['price'].quantile(0.5))].index)  #rmsle score: 0.35\n",
        "# train = train.drop(train[(train['max_kilometer'] > train['max_kilometer'].quantile(0.55)) & (train['price'] > train['price'].quantile(0.5))].index) #rmsle score: 0.33\n",
        "# train = train.drop(train[(train['max_kilometer'] > train['max_kilometer'].quantile(0.25)) & (train['price'] > train['price'].quantile(0.75))].index)  #rmsle score: 0.3005\n",
        "#train = train.drop(train[(train['max_kilometer'] > train['max_kilometer'].quantile(0.25)) & (train['price'] > train['price'].quantile(0.75))].index)  #rmsle score: 0.263\n",
        "\n"
      ],
      "metadata": {
        "id": "KaYysJLnfmPw"
      },
      "execution_count": null,
      "outputs": []
    },
    {
      "cell_type": "code",
      "source": [
        "# prompt: delete all rows in the max-kilometers column with value that is  within the 15 percentiles but with a price that is below 35 percentiles\n",
        "\n",
        "\n",
        "train = train.drop(train[(train['max_kilometer'] < train['max_kilometer'].quantile(0.3)) & (train['price'] < train['price'].quantile(0.35))].index) #rmsle score: 0.35\n",
        "# train = train.drop(train[(train['max_kilometer'] < train['max_kilometer'].quantile(0.55)) & (train['price'] < train['price'].quantile(0.35))].index) #rmsle score: 0.33\n",
        "# train = train.drop(train[(train['max_kilometer'] < train['max_kilometer'].quantile(0.75)) & (train['price'] < train['price'].quantile(0.25))].index) #rmsle score: 0.3005\n",
        "#train = train.drop(train[(train['max_kilometer'] < train['max_kilometer'].quantile(0.75)) & (train['price'] < train['price'].quantile(0.25))].index) #rmsle score: 0.263"
      ],
      "metadata": {
        "id": "9-AFPDJvfmkU"
      },
      "execution_count": null,
      "outputs": []
    },
    {
      "cell_type": "code",
      "execution_count": null,
      "metadata": {
        "id": "E_H1w-agGI_I"
      },
      "outputs": [],
      "source": [
        "# List of numerical columns to handle outliers and scale\n",
        "numerical_columns = ['max_kilometer', 'car_age', 'price']  # Assuming these are the numerical features\n",
        "\n",
        "# Handle outliers\n",
        "train = handle_outliers(train, numerical_columns)\n",
        "\n",
        "# Normalize/Scale Numerical Features\n",
        "scaler = MinMaxScaler()\n",
        "train[numerical_columns] = scaler.fit(train[numerical_columns])\n",
        "train = scaler.transform(train)\n",
        "\n",
        "[columns] = scaler.fit_transform(df[columns])\n",
        "# test = scaler.transform(test)\n",
        "# train = scale_numerical_features(train, ['max_kilometer', 'car_age',])\n",
        "# test = scale_numerical_features(test, ['max_kilometer', 'car_age',])"
      ]
    },
    {
      "cell_type": "code",
      "execution_count": null,
      "metadata": {
        "id": "-BwZES0MGMLI",
        "colab": {
          "base_uri": "https://localhost:8080/",
          "height": 446
        },
        "outputId": "2c04f2ad-4bb5-4bf1-cb27-58be3b4e9e5b"
      },
      "outputs": [
        {
          "output_type": "error",
          "ename": "IndexError",
          "evalue": "only integers, slices (`:`), ellipsis (`...`), numpy.newaxis (`None`) and integer or boolean arrays are valid indices",
          "traceback": [
            "\u001b[0;31m---------------------------------------------------------------------------\u001b[0m",
            "\u001b[0;31mIndexError\u001b[0m                                Traceback (most recent call last)",
            "\u001b[0;32m<ipython-input-336-fec3a273a3d3>\u001b[0m in \u001b[0;36m<cell line: 6>\u001b[0;34m()\u001b[0m\n\u001b[1;32m      6\u001b[0m \u001b[0;32mfor\u001b[0m \u001b[0mi\u001b[0m\u001b[0;34m,\u001b[0m \u001b[0mcol\u001b[0m \u001b[0;32min\u001b[0m \u001b[0menumerate\u001b[0m\u001b[0;34m(\u001b[0m\u001b[0mcorrelation_with_price\u001b[0m\u001b[0;34m.\u001b[0m\u001b[0mindex\u001b[0m\u001b[0;34m)\u001b[0m\u001b[0;34m:\u001b[0m\u001b[0;34m\u001b[0m\u001b[0;34m\u001b[0m\u001b[0m\n\u001b[1;32m      7\u001b[0m     \u001b[0mplt\u001b[0m\u001b[0;34m.\u001b[0m\u001b[0msubplot\u001b[0m\u001b[0;34m(\u001b[0m\u001b[0;36m3\u001b[0m\u001b[0;34m,\u001b[0m \u001b[0;36m5\u001b[0m\u001b[0;34m,\u001b[0m \u001b[0mi\u001b[0m \u001b[0;34m+\u001b[0m \u001b[0;36m1\u001b[0m\u001b[0;34m)\u001b[0m\u001b[0;34m\u001b[0m\u001b[0;34m\u001b[0m\u001b[0m\n\u001b[0;32m----> 8\u001b[0;31m     \u001b[0mplt\u001b[0m\u001b[0;34m.\u001b[0m\u001b[0mscatter\u001b[0m\u001b[0;34m(\u001b[0m\u001b[0mtrain\u001b[0m\u001b[0;34m[\u001b[0m\u001b[0mcol\u001b[0m\u001b[0;34m]\u001b[0m\u001b[0;34m,\u001b[0m \u001b[0mtrain\u001b[0m\u001b[0;34m[\u001b[0m\u001b[0;34m'price'\u001b[0m\u001b[0;34m]\u001b[0m\u001b[0;34m,\u001b[0m \u001b[0malpha\u001b[0m\u001b[0;34m=\u001b[0m\u001b[0;36m0.5\u001b[0m\u001b[0;34m)\u001b[0m\u001b[0;34m\u001b[0m\u001b[0;34m\u001b[0m\u001b[0m\n\u001b[0m\u001b[1;32m      9\u001b[0m \u001b[0;31m#     plt.title(f'{col} vs. price')\u001b[0m\u001b[0;34m\u001b[0m\u001b[0;34m\u001b[0m\u001b[0m\n\u001b[1;32m     10\u001b[0m     \u001b[0mplt\u001b[0m\u001b[0;34m.\u001b[0m\u001b[0mxlabel\u001b[0m\u001b[0;34m(\u001b[0m\u001b[0mcol\u001b[0m\u001b[0;34m)\u001b[0m\u001b[0;34m\u001b[0m\u001b[0;34m\u001b[0m\u001b[0m\n",
            "\u001b[0;31mIndexError\u001b[0m: only integers, slices (`:`), ellipsis (`...`), numpy.newaxis (`None`) and integer or boolean arrays are valid indices"
          ]
        },
        {
          "output_type": "display_data",
          "data": {
            "text/plain": [
              "<Figure size 1200x800 with 1 Axes>"
            ],
            "image/png": "[encoded data removed]"
          },
          "metadata": {}
        }
      ],
      "source": [
        "# Calculate correlation between each feature and the target variable (price)\n",
        "correlation_with_price = train.corrwith(train['price']).sort_values(ascending=False)\n",
        "\n",
        "# Plot each column against the price\n",
        "plt.figure(figsize=(12, 8))\n",
        "for i, col in enumerate(correlation_with_price.index):\n",
        "    plt.subplot(3, 5, i + 1)\n",
        "    plt.scatter(train[col], train['price'], alpha=0.5)\n",
        "#     plt.title(f'{col} vs. price')\n",
        "    plt.xlabel(col)\n",
        "    plt.ylabel('Price')\n",
        "plt.tight_layout()\n",
        "plt.show()"
      ]
    },
    {
      "cell_type": "code",
      "execution_count": null,
      "metadata": {
        "id": "ClLhsU00GSWq"
      },
      "outputs": [],
      "source": [
        "# Compute the correlation matrix\n",
        "correlation_matrix = train.corr()\n",
        "\n",
        "# Extract the correlation of each feature with the target variable (price)\n",
        "feature_correlation = correlation_matrix['price'].abs().sort_values(ascending=False)\n",
        "\n",
        "# Print the most correlated features\n",
        "print(\"Most correlated features with price:\")\n",
        "print(feature_correlation)"
      ]
    },
    {
      "cell_type": "code",
      "execution_count": null,
      "metadata": {
        "id": "RcUUQYx1GXBc"
      },
      "outputs": [],
      "source": [
        "\n",
        "def rmsle(y_true, y_pred):\n",
        "    \"\"\"\n",
        "    Compute Root-Mean-Squared-Logarithmic-Error (RMSLE) loss between y_true and y_pred.\n",
        "    \"\"\"\n",
        "    # squared_log_error = tf.square(tf.math.log(y_true + 1) - tf.math.log(y_pred + 1))\n",
        "    # mean_squared_log_error = tf.reduce_mean(squared_log_error, axis=-1)\n",
        "    # return tf.sqrt(mean_squared_log_error)\n",
        "    assert len(y_true) == len(y_pred), \"Lengths of true and predicted values must match\"\n",
        "\n",
        "    # Transform true and predicted values using natural logarithm\n",
        "    y_true_log = np.log1p(y_true)\n",
        "    y_pred_log = np.log1p(y_pred)\n",
        "\n",
        "    # Compute squared log error\n",
        "    squared_log_error = (y_true_log - y_pred_log) ** 2\n",
        "\n",
        "    # Compute mean squared log error and take square root\n",
        "    mean_squared_log_error = np.mean(squared_log_error)\n",
        "    rmsle = np.sqrt(mean_squared_log_error)\n",
        "\n",
        "    return rmsle\n",
        "\n",
        "\n",
        "# Use RMSLE as the loss function when compiling the model"
      ]
    },
    {
      "cell_type": "code",
      "execution_count": null,
      "metadata": {
        "id": "CfwWowhYGZ5m"
      },
      "outputs": [],
      "source": [
        "# Define the neural network architecture\n",
        "def create_model():\n",
        "    model = Sequential([\n",
        "        # Input layer with four neurons\n",
        "        Dense(16, input_shape=(4,), activation='relu'),  # 16 neurons in the hidden layer\n",
        "        # Output layer with a single neuron for regression\n",
        "        Dense(1, activation='linear')  # Linear activation for regression\n",
        "    ])\n",
        "    # Compile the model\n",
        "    model.compile(optimizer='adam', loss='mean_squared_error')\n",
        "    # model.compile(optimizer=\"adam\", loss=rmsle)\n",
        "    return model"
      ]
    },
    {
      "cell_type": "code",
      "execution_count": null,
      "metadata": {
        "id": "6ztVrdJ-GeVD"
      },
      "outputs": [],
      "source": [
        "# Create an instance of the KerasRegressor wrapper with the defined model\n",
        "\n",
        "keras_regressor = KerasRegressor(build_fn=create_model, epochs=10, batch_size=32, verbose=1)"
      ]
    },
    {
      "cell_type": "code",
      "execution_count": null,
      "metadata": {
        "id": "i8yL-HGrKuEJ"
      },
      "outputs": [],
      "source": [
        "# Prepare the input features (X_train) and target variable (y_train)\n",
        "train.fillna(train.mean(),inplace=True)\n",
        "\n",
        "X = train[['car_age', 'transmission_type', 'max_kilometer','body_type']]\n",
        "y = train['price']\n",
        "\n",
        "# Split the data into training and validation sets\n",
        "X_train, X_val, y_train, y_val = train_test_split(X, y, test_size=0.1, random_state=42)"
      ]
    },
    {
      "cell_type": "code",
      "execution_count": null,
      "metadata": {
        "id": "7xtci25cGlrQ"
      },
      "outputs": [],
      "source": [
        "# Fit the model to the training data\n",
        "keras_regressor.fit(X_train,y_train)\n",
        "print(\"Validation set shape:\", X_val.shape, y_val.shape)\n"
      ]
    },
    {
      "cell_type": "code",
      "execution_count": null,
      "metadata": {
        "id": "mkoVDo-dGon4"
      },
      "outputs": [],
      "source": [
        "# Assuming X_val and y_val are the validation set\n",
        "# Check for missing values in the validation data\n",
        "\n",
        "# print(\"\\nNo missing values found in the data.\")\n",
        "# score = keras_regressor.score(X_val, y_val)\n",
        "# print(\"Validation Set Score:\", score)\n",
        "sns.scatterplot(x=y_val,y=y_val)\n",
        "data = keras_regressor.predict(X_val)\n",
        "sns.scatterplot(y= data,x = y_val, label=f'rmsle score: {np.sqrt(np.mean(np.square(np.log1p(y_val) - np.log1p(data))))}')"
      ]
    },
    {
      "cell_type": "code",
      "source": [
        "# Get predictions on the validation set\n",
        "mse_predictions = keras_regressor.predict(X_val)\n",
        "\n",
        "# Extract true values from the validation set\n",
        "true_values = y_val.values\n",
        "\n",
        "# Compute RMSLE\n",
        "rmsle_score = rmsle(true_values, mse_predictions)\n",
        "print(\"RMSLE Score:\", rmsle_score)\n",
        "\n",
        "# Calculate RMSLE\n",
        "rmsle = np.sqrt(np.mean(np.square(np.log1p(y_val) - np.log1p(mse_predictions))))\n",
        "print(\"RMSLE on Validation Set: %.4f\" % rmsle)"
      ],
      "metadata": {
        "id": "oJ6Q6RwLbbLB"
      },
      "execution_count": null,
      "outputs": []
    },
    {
      "cell_type": "code",
      "execution_count": null,
      "metadata": {
        "id": "hgg2csjsGrWB"
      },
      "outputs": [],
      "source": [
        "# Obtain predictions for the test data\n",
        "predictions = keras_regressor.predict(test[['car_age', 'transmission_type', 'max_kilometer','body_type']])\n",
        "\n",
        "# Combine predictions with corresponding IDs\n",
        "predicted_prices = pd.DataFrame({'id': test['id'], 'price': predictions})\n",
        "print(predicted_prices)\n",
        "# Export the DataFrame to a CSV file\n",
        "predicted_prices.to_csv('submission.csv', index=False, mode='w')\n",
        "# predictions = keras_regressor.predict(X_test)"
      ]
    },
    {
      "cell_type": "code",
      "execution_count": null,
      "metadata": {
        "id": "taR5kkzpGul3"
      },
      "outputs": [],
      "source": []
    }
  ],
  "metadata": {
    "colab": {
      "provenance": []
    },
    "kernelspec": {
      "display_name": "Python 3",
      "name": "python3"
    },
    "language_info": {
      "name": "python"
    }
  },
  "nbformat": 4,
  "nbformat_minor": 0
}